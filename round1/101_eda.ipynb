{
 "cells": [
  {
   "cell_type": "code",
   "execution_count": 81,
   "metadata": {},
   "outputs": [],
   "source": [
    "%matplotlib inline\n",
    "\n",
    "import pandas as pd\n",
    "import numpy as np\n",
    "import os\n",
    "from tqdm import tqdm\n",
    "import lightgbm as lgb\n",
    "from sklearn.model_selection import StratifiedKFold\n",
    "from sklearn import metrics\n",
    "import warnings\n",
    "import matplotlib.pyplot as plt\n",
    "import seaborn as sns\n",
    "\n",
    "warnings.filterwarnings('ignore')"
   ]
  },
  {
   "cell_type": "markdown",
   "metadata": {},
   "source": [
    "### '围网', '拖网', '刺网'各取一例分析"
   ]
  },
  {
   "cell_type": "code",
   "execution_count": 61,
   "metadata": {},
   "outputs": [],
   "source": [
    "file_20000=\"../../hy_round2_train_20200225/20000.csv\" #拖网\n",
    "file_20001=\"../../hy_round2_train_20200225/20001.csv\" #围网\n",
    "file_20002=\"../../hy_round2_train_20200225/20002.csv\" #刺网"
   ]
  },
  {
   "cell_type": "code",
   "execution_count": 62,
   "metadata": {},
   "outputs": [
    {
     "data": {
      "text/html": [
       "<div>\n",
       "<style scoped>\n",
       "    .dataframe tbody tr th:only-of-type {\n",
       "        vertical-align: middle;\n",
       "    }\n",
       "\n",
       "    .dataframe tbody tr th {\n",
       "        vertical-align: top;\n",
       "    }\n",
       "\n",
       "    .dataframe thead th {\n",
       "        text-align: right;\n",
       "    }\n",
       "</style>\n",
       "<table border=\"1\" class=\"dataframe\">\n",
       "  <thead>\n",
       "    <tr style=\"text-align: right;\">\n",
       "      <th></th>\n",
       "      <th>ship</th>\n",
       "      <th>lat</th>\n",
       "      <th>lon</th>\n",
       "      <th>v</th>\n",
       "      <th>d</th>\n",
       "      <th>time</th>\n",
       "      <th>type</th>\n",
       "    </tr>\n",
       "  </thead>\n",
       "  <tbody>\n",
       "    <tr>\n",
       "      <th>0</th>\n",
       "      <td>20000</td>\n",
       "      <td>21.295</td>\n",
       "      <td>115.563</td>\n",
       "      <td>2.32</td>\n",
       "      <td>50</td>\n",
       "      <td>0912 23:59:55</td>\n",
       "      <td>拖网</td>\n",
       "    </tr>\n",
       "    <tr>\n",
       "      <th>1</th>\n",
       "      <td>20000</td>\n",
       "      <td>21.289</td>\n",
       "      <td>115.557</td>\n",
       "      <td>3.29</td>\n",
       "      <td>30</td>\n",
       "      <td>0912 23:49:54</td>\n",
       "      <td>拖网</td>\n",
       "    </tr>\n",
       "    <tr>\n",
       "      <th>2</th>\n",
       "      <td>20000</td>\n",
       "      <td>21.282</td>\n",
       "      <td>115.551</td>\n",
       "      <td>3.08</td>\n",
       "      <td>40</td>\n",
       "      <td>0912 23:39:26</td>\n",
       "      <td>拖网</td>\n",
       "    </tr>\n",
       "    <tr>\n",
       "      <th>3</th>\n",
       "      <td>20000</td>\n",
       "      <td>21.274</td>\n",
       "      <td>115.547</td>\n",
       "      <td>3.51</td>\n",
       "      <td>20</td>\n",
       "      <td>0912 23:29:49</td>\n",
       "      <td>拖网</td>\n",
       "    </tr>\n",
       "    <tr>\n",
       "      <th>4</th>\n",
       "      <td>20000</td>\n",
       "      <td>21.267</td>\n",
       "      <td>115.543</td>\n",
       "      <td>3.08</td>\n",
       "      <td>10</td>\n",
       "      <td>0912 23:19:48</td>\n",
       "      <td>拖网</td>\n",
       "    </tr>\n",
       "  </tbody>\n",
       "</table>\n",
       "</div>"
      ],
      "text/plain": [
       "    ship     lat      lon     v   d           time type\n",
       "0  20000  21.295  115.563  2.32  50  0912 23:59:55   拖网\n",
       "1  20000  21.289  115.557  3.29  30  0912 23:49:54   拖网\n",
       "2  20000  21.282  115.551  3.08  40  0912 23:39:26   拖网\n",
       "3  20000  21.274  115.547  3.51  20  0912 23:29:49   拖网\n",
       "4  20000  21.267  115.543  3.08  10  0912 23:19:48   拖网"
      ]
     },
     "execution_count": 62,
     "metadata": {},
     "output_type": "execute_result"
    }
   ],
   "source": [
    "df_20000=pd.read_csv(file_20000)\n",
    "df_20000.columns=['ship','lat','lon','v','d','time','type']\n",
    "df_20000.head()"
   ]
  },
  {
   "cell_type": "code",
   "execution_count": 63,
   "metadata": {},
   "outputs": [
    {
     "data": {
      "text/html": [
       "<div>\n",
       "<style scoped>\n",
       "    .dataframe tbody tr th:only-of-type {\n",
       "        vertical-align: middle;\n",
       "    }\n",
       "\n",
       "    .dataframe tbody tr th {\n",
       "        vertical-align: top;\n",
       "    }\n",
       "\n",
       "    .dataframe thead th {\n",
       "        text-align: right;\n",
       "    }\n",
       "</style>\n",
       "<table border=\"1\" class=\"dataframe\">\n",
       "  <thead>\n",
       "    <tr style=\"text-align: right;\">\n",
       "      <th></th>\n",
       "      <th>ship</th>\n",
       "      <th>lat</th>\n",
       "      <th>lon</th>\n",
       "      <th>v</th>\n",
       "      <th>d</th>\n",
       "      <th>time</th>\n",
       "      <th>type</th>\n",
       "    </tr>\n",
       "  </thead>\n",
       "  <tbody>\n",
       "    <tr>\n",
       "      <th>0</th>\n",
       "      <td>20001</td>\n",
       "      <td>25.172</td>\n",
       "      <td>119.131</td>\n",
       "      <td>0.05</td>\n",
       "      <td>0</td>\n",
       "      <td>0930 23:53:42</td>\n",
       "      <td>围网</td>\n",
       "    </tr>\n",
       "    <tr>\n",
       "      <th>1</th>\n",
       "      <td>20001</td>\n",
       "      <td>25.172</td>\n",
       "      <td>119.131</td>\n",
       "      <td>0.00</td>\n",
       "      <td>0</td>\n",
       "      <td>0930 23:43:42</td>\n",
       "      <td>围网</td>\n",
       "    </tr>\n",
       "    <tr>\n",
       "      <th>2</th>\n",
       "      <td>20001</td>\n",
       "      <td>25.172</td>\n",
       "      <td>119.131</td>\n",
       "      <td>0.05</td>\n",
       "      <td>0</td>\n",
       "      <td>0930 23:33:42</td>\n",
       "      <td>围网</td>\n",
       "    </tr>\n",
       "    <tr>\n",
       "      <th>3</th>\n",
       "      <td>20001</td>\n",
       "      <td>25.172</td>\n",
       "      <td>119.131</td>\n",
       "      <td>0.00</td>\n",
       "      <td>0</td>\n",
       "      <td>0930 23:23:42</td>\n",
       "      <td>围网</td>\n",
       "    </tr>\n",
       "    <tr>\n",
       "      <th>4</th>\n",
       "      <td>20001</td>\n",
       "      <td>25.172</td>\n",
       "      <td>119.131</td>\n",
       "      <td>0.00</td>\n",
       "      <td>0</td>\n",
       "      <td>0930 23:13:42</td>\n",
       "      <td>围网</td>\n",
       "    </tr>\n",
       "  </tbody>\n",
       "</table>\n",
       "</div>"
      ],
      "text/plain": [
       "    ship     lat      lon     v  d           time type\n",
       "0  20001  25.172  119.131  0.05  0  0930 23:53:42   围网\n",
       "1  20001  25.172  119.131  0.00  0  0930 23:43:42   围网\n",
       "2  20001  25.172  119.131  0.05  0  0930 23:33:42   围网\n",
       "3  20001  25.172  119.131  0.00  0  0930 23:23:42   围网\n",
       "4  20001  25.172  119.131  0.00  0  0930 23:13:42   围网"
      ]
     },
     "execution_count": 63,
     "metadata": {},
     "output_type": "execute_result"
    }
   ],
   "source": [
    "df_20001=pd.read_csv(file_20001)\n",
    "df_20001.columns=['ship','lat','lon','v','d','time','type']\n",
    "df_20001.head()"
   ]
  },
  {
   "cell_type": "code",
   "execution_count": 64,
   "metadata": {},
   "outputs": [
    {
     "data": {
      "text/html": [
       "<div>\n",
       "<style scoped>\n",
       "    .dataframe tbody tr th:only-of-type {\n",
       "        vertical-align: middle;\n",
       "    }\n",
       "\n",
       "    .dataframe tbody tr th {\n",
       "        vertical-align: top;\n",
       "    }\n",
       "\n",
       "    .dataframe thead th {\n",
       "        text-align: right;\n",
       "    }\n",
       "</style>\n",
       "<table border=\"1\" class=\"dataframe\">\n",
       "  <thead>\n",
       "    <tr style=\"text-align: right;\">\n",
       "      <th></th>\n",
       "      <th>ship</th>\n",
       "      <th>lat</th>\n",
       "      <th>lon</th>\n",
       "      <th>v</th>\n",
       "      <th>d</th>\n",
       "      <th>time</th>\n",
       "      <th>type</th>\n",
       "    </tr>\n",
       "  </thead>\n",
       "  <tbody>\n",
       "    <tr>\n",
       "      <th>0</th>\n",
       "      <td>20002</td>\n",
       "      <td>27.287</td>\n",
       "      <td>120.261</td>\n",
       "      <td>0.00</td>\n",
       "      <td>20</td>\n",
       "      <td>1027 11:51:43</td>\n",
       "      <td>刺网</td>\n",
       "    </tr>\n",
       "    <tr>\n",
       "      <th>1</th>\n",
       "      <td>20002</td>\n",
       "      <td>27.287</td>\n",
       "      <td>120.261</td>\n",
       "      <td>0.32</td>\n",
       "      <td>50</td>\n",
       "      <td>1027 11:41:14</td>\n",
       "      <td>刺网</td>\n",
       "    </tr>\n",
       "    <tr>\n",
       "      <th>2</th>\n",
       "      <td>20002</td>\n",
       "      <td>27.287</td>\n",
       "      <td>120.261</td>\n",
       "      <td>0.11</td>\n",
       "      <td>0</td>\n",
       "      <td>1027 11:31:15</td>\n",
       "      <td>刺网</td>\n",
       "    </tr>\n",
       "    <tr>\n",
       "      <th>3</th>\n",
       "      <td>20002</td>\n",
       "      <td>27.287</td>\n",
       "      <td>120.261</td>\n",
       "      <td>0.11</td>\n",
       "      <td>0</td>\n",
       "      <td>1027 11:21:19</td>\n",
       "      <td>刺网</td>\n",
       "    </tr>\n",
       "    <tr>\n",
       "      <th>4</th>\n",
       "      <td>20002</td>\n",
       "      <td>27.287</td>\n",
       "      <td>120.261</td>\n",
       "      <td>0.22</td>\n",
       "      <td>102</td>\n",
       "      <td>1027 11:11:20</td>\n",
       "      <td>刺网</td>\n",
       "    </tr>\n",
       "  </tbody>\n",
       "</table>\n",
       "</div>"
      ],
      "text/plain": [
       "    ship     lat      lon     v    d           time type\n",
       "0  20002  27.287  120.261  0.00   20  1027 11:51:43   刺网\n",
       "1  20002  27.287  120.261  0.32   50  1027 11:41:14   刺网\n",
       "2  20002  27.287  120.261  0.11    0  1027 11:31:15   刺网\n",
       "3  20002  27.287  120.261  0.11    0  1027 11:21:19   刺网\n",
       "4  20002  27.287  120.261  0.22  102  1027 11:11:20   刺网"
      ]
     },
     "execution_count": 64,
     "metadata": {},
     "output_type": "execute_result"
    }
   ],
   "source": [
    "df_20002=pd.read_csv(file_20002)\n",
    "df_20002.columns=['ship','lat','lon','v','d','time','type']\n",
    "df_20002.head()"
   ]
  },
  {
   "cell_type": "markdown",
   "metadata": {},
   "source": [
    "### 根据经纬度转化为平面坐标\n",
    "\n",
    "[lat,lon -> x,y](https://blog.csdn.net/weixin_43428682/article/details/87889753)\n",
    "* 经度：longitude 纬度： latitude\n",
    "* 椭圆的长半轴: a\n",
    "* 椭圆的短半轴: b\n",
    "\n",
    "[两类偏心率](https://baike.baidu.com/item/%E6%A4%AD%E7%90%83%E5%81%8F%E5%BF%83%E7%8E%87/4944476?fr=aladdin)\n",
    "* 椭圆的第一偏心率: $ e=\\frac{\\sqrt{a^2-b^2}}{a} $  \n",
    "* 椭圆的第二偏心率: $ e'=\\frac{\\sqrt{a^2-b^2}}{b} $"
   ]
  },
  {
   "cell_type": "code",
   "execution_count": 65,
   "metadata": {},
   "outputs": [],
   "source": [
    "a=6378137.0000\n",
    "b=6356752.3142\n",
    "B0=0\n",
    "lon0=0\n",
    "def k_val_compute():\n",
    "    e_=np.sqrt(a**2-b**2)/b\n",
    "    return a**2*np.cos(B0)/(b*np.sqrt((1+(e_*np.cos(B0))**2)))\n",
    "\n",
    "def X_unit_trans(lon):\n",
    "    lon_rad=lon*np.pi/180 #角度-> 弧度\n",
    "    k=k_val_compute()\n",
    "    return k*(lon_rad-lon0)\n",
    "\n",
    "def Y_unit_trans(lat):\n",
    "    lat_rad=lat*np.pi/180 #角度-> 弧度\n",
    "    k=k_val_compute()\n",
    "    e=np.sqrt(a**2-b**2)/a\n",
    "    dot_val=np.tan(np.pi/4+lat_rad/2)*((1-e*np.sin(lat_rad))/(1+e*np.sin(lat_rad)))**(e/2)                        \n",
    "    return k*np.log(dot_val)"
   ]
  },
  {
   "cell_type": "code",
   "execution_count": 67,
   "metadata": {},
   "outputs": [],
   "source": [
    "for df in [df_20001,df_20002,df_20000]:\n",
    "    df['x']=df.lon.apply(X_unit_trans) # lon->x\n",
    "    df['y']=df.lat.apply(Y_unit_trans) # lat->y"
   ]
  },
  {
   "cell_type": "markdown",
   "metadata": {},
   "source": [
    "#### 相关性探索"
   ]
  },
  {
   "cell_type": "code",
   "execution_count": 90,
   "metadata": {},
   "outputs": [
    {
     "data": {
      "text/html": [
       "<div>\n",
       "<style scoped>\n",
       "    .dataframe tbody tr th:only-of-type {\n",
       "        vertical-align: middle;\n",
       "    }\n",
       "\n",
       "    .dataframe tbody tr th {\n",
       "        vertical-align: top;\n",
       "    }\n",
       "\n",
       "    .dataframe thead th {\n",
       "        text-align: right;\n",
       "    }\n",
       "</style>\n",
       "<table border=\"1\" class=\"dataframe\">\n",
       "  <thead>\n",
       "    <tr style=\"text-align: right;\">\n",
       "      <th></th>\n",
       "      <th>ship</th>\n",
       "      <th>lat</th>\n",
       "      <th>lon</th>\n",
       "      <th>v</th>\n",
       "      <th>d</th>\n",
       "      <th>x</th>\n",
       "      <th>y</th>\n",
       "    </tr>\n",
       "  </thead>\n",
       "  <tbody>\n",
       "    <tr>\n",
       "      <th>ship</th>\n",
       "      <td>NaN</td>\n",
       "      <td>NaN</td>\n",
       "      <td>NaN</td>\n",
       "      <td>NaN</td>\n",
       "      <td>NaN</td>\n",
       "      <td>NaN</td>\n",
       "      <td>NaN</td>\n",
       "    </tr>\n",
       "    <tr>\n",
       "      <th>lat</th>\n",
       "      <td>NaN</td>\n",
       "      <td>1.000000</td>\n",
       "      <td>0.920760</td>\n",
       "      <td>-0.060709</td>\n",
       "      <td>-0.099331</td>\n",
       "      <td>0.920760</td>\n",
       "      <td>1.000000</td>\n",
       "    </tr>\n",
       "    <tr>\n",
       "      <th>lon</th>\n",
       "      <td>NaN</td>\n",
       "      <td>0.920760</td>\n",
       "      <td>1.000000</td>\n",
       "      <td>-0.115258</td>\n",
       "      <td>-0.081694</td>\n",
       "      <td>1.000000</td>\n",
       "      <td>0.920671</td>\n",
       "    </tr>\n",
       "    <tr>\n",
       "      <th>v</th>\n",
       "      <td>NaN</td>\n",
       "      <td>-0.060709</td>\n",
       "      <td>-0.115258</td>\n",
       "      <td>1.000000</td>\n",
       "      <td>-0.019940</td>\n",
       "      <td>-0.115258</td>\n",
       "      <td>-0.060652</td>\n",
       "    </tr>\n",
       "    <tr>\n",
       "      <th>d</th>\n",
       "      <td>NaN</td>\n",
       "      <td>-0.099331</td>\n",
       "      <td>-0.081694</td>\n",
       "      <td>-0.019940</td>\n",
       "      <td>1.000000</td>\n",
       "      <td>-0.081694</td>\n",
       "      <td>-0.099367</td>\n",
       "    </tr>\n",
       "    <tr>\n",
       "      <th>x</th>\n",
       "      <td>NaN</td>\n",
       "      <td>0.920760</td>\n",
       "      <td>1.000000</td>\n",
       "      <td>-0.115258</td>\n",
       "      <td>-0.081694</td>\n",
       "      <td>1.000000</td>\n",
       "      <td>0.920671</td>\n",
       "    </tr>\n",
       "    <tr>\n",
       "      <th>y</th>\n",
       "      <td>NaN</td>\n",
       "      <td>1.000000</td>\n",
       "      <td>0.920671</td>\n",
       "      <td>-0.060652</td>\n",
       "      <td>-0.099367</td>\n",
       "      <td>0.920671</td>\n",
       "      <td>1.000000</td>\n",
       "    </tr>\n",
       "  </tbody>\n",
       "</table>\n",
       "</div>"
      ],
      "text/plain": [
       "      ship       lat       lon         v         d         x         y\n",
       "ship   NaN       NaN       NaN       NaN       NaN       NaN       NaN\n",
       "lat    NaN  1.000000  0.920760 -0.060709 -0.099331  0.920760  1.000000\n",
       "lon    NaN  0.920760  1.000000 -0.115258 -0.081694  1.000000  0.920671\n",
       "v      NaN -0.060709 -0.115258  1.000000 -0.019940 -0.115258 -0.060652\n",
       "d      NaN -0.099331 -0.081694 -0.019940  1.000000 -0.081694 -0.099367\n",
       "x      NaN  0.920760  1.000000 -0.115258 -0.081694  1.000000  0.920671\n",
       "y      NaN  1.000000  0.920671 -0.060652 -0.099367  0.920671  1.000000"
      ]
     },
     "execution_count": 90,
     "metadata": {},
     "output_type": "execute_result"
    }
   ],
   "source": [
    "df_20000.corr()"
   ]
  },
  {
   "cell_type": "code",
   "execution_count": 91,
   "metadata": {},
   "outputs": [
    {
     "data": {
      "text/plain": [
       "<matplotlib.axes._subplots.AxesSubplot at 0x1b4a9527ac8>"
      ]
     },
     "execution_count": 91,
     "metadata": {},
     "output_type": "execute_result"
    },
    {
     "data": {
      "image/png": "[encoded data removed]",
      "text/plain": [
       "<Figure size 432x288 with 2 Axes>"
      ]
     },
     "metadata": {
      "needs_background": "light"
     },
     "output_type": "display_data"
    }
   ],
   "source": [
    "sns.heatmap(df_20000.corr())"
   ]
  },
  {
   "cell_type": "code",
   "execution_count": 84,
   "metadata": {},
   "outputs": [
    {
     "data": {
      "text/html": [
       "<div>\n",
       "<style scoped>\n",
       "    .dataframe tbody tr th:only-of-type {\n",
       "        vertical-align: middle;\n",
       "    }\n",
       "\n",
       "    .dataframe tbody tr th {\n",
       "        vertical-align: top;\n",
       "    }\n",
       "\n",
       "    .dataframe thead th {\n",
       "        text-align: right;\n",
       "    }\n",
       "</style>\n",
       "<table border=\"1\" class=\"dataframe\">\n",
       "  <thead>\n",
       "    <tr style=\"text-align: right;\">\n",
       "      <th></th>\n",
       "      <th>ship</th>\n",
       "      <th>lat</th>\n",
       "      <th>lon</th>\n",
       "      <th>v</th>\n",
       "      <th>d</th>\n",
       "      <th>x</th>\n",
       "      <th>y</th>\n",
       "    </tr>\n",
       "  </thead>\n",
       "  <tbody>\n",
       "    <tr>\n",
       "      <th>ship</th>\n",
       "      <td>NaN</td>\n",
       "      <td>NaN</td>\n",
       "      <td>NaN</td>\n",
       "      <td>NaN</td>\n",
       "      <td>NaN</td>\n",
       "      <td>NaN</td>\n",
       "      <td>NaN</td>\n",
       "    </tr>\n",
       "    <tr>\n",
       "      <th>lat</th>\n",
       "      <td>NaN</td>\n",
       "      <td>1.000000</td>\n",
       "      <td>-0.489733</td>\n",
       "      <td>-0.436177</td>\n",
       "      <td>-0.498323</td>\n",
       "      <td>-0.489733</td>\n",
       "      <td>1.000000</td>\n",
       "    </tr>\n",
       "    <tr>\n",
       "      <th>lon</th>\n",
       "      <td>NaN</td>\n",
       "      <td>-0.489733</td>\n",
       "      <td>1.000000</td>\n",
       "      <td>0.494238</td>\n",
       "      <td>0.491504</td>\n",
       "      <td>1.000000</td>\n",
       "      <td>-0.489825</td>\n",
       "    </tr>\n",
       "    <tr>\n",
       "      <th>v</th>\n",
       "      <td>NaN</td>\n",
       "      <td>-0.436177</td>\n",
       "      <td>0.494238</td>\n",
       "      <td>1.000000</td>\n",
       "      <td>0.695077</td>\n",
       "      <td>0.494238</td>\n",
       "      <td>-0.436274</td>\n",
       "    </tr>\n",
       "    <tr>\n",
       "      <th>d</th>\n",
       "      <td>NaN</td>\n",
       "      <td>-0.498323</td>\n",
       "      <td>0.491504</td>\n",
       "      <td>0.695077</td>\n",
       "      <td>1.000000</td>\n",
       "      <td>0.491504</td>\n",
       "      <td>-0.498376</td>\n",
       "    </tr>\n",
       "    <tr>\n",
       "      <th>x</th>\n",
       "      <td>NaN</td>\n",
       "      <td>-0.489733</td>\n",
       "      <td>1.000000</td>\n",
       "      <td>0.494238</td>\n",
       "      <td>0.491504</td>\n",
       "      <td>1.000000</td>\n",
       "      <td>-0.489825</td>\n",
       "    </tr>\n",
       "    <tr>\n",
       "      <th>y</th>\n",
       "      <td>NaN</td>\n",
       "      <td>1.000000</td>\n",
       "      <td>-0.489825</td>\n",
       "      <td>-0.436274</td>\n",
       "      <td>-0.498376</td>\n",
       "      <td>-0.489825</td>\n",
       "      <td>1.000000</td>\n",
       "    </tr>\n",
       "  </tbody>\n",
       "</table>\n",
       "</div>"
      ],
      "text/plain": [
       "      ship       lat       lon         v         d         x         y\n",
       "ship   NaN       NaN       NaN       NaN       NaN       NaN       NaN\n",
       "lat    NaN  1.000000 -0.489733 -0.436177 -0.498323 -0.489733  1.000000\n",
       "lon    NaN -0.489733  1.000000  0.494238  0.491504  1.000000 -0.489825\n",
       "v      NaN -0.436177  0.494238  1.000000  0.695077  0.494238 -0.436274\n",
       "d      NaN -0.498323  0.491504  0.695077  1.000000  0.491504 -0.498376\n",
       "x      NaN -0.489733  1.000000  0.494238  0.491504  1.000000 -0.489825\n",
       "y      NaN  1.000000 -0.489825 -0.436274 -0.498376 -0.489825  1.000000"
      ]
     },
     "execution_count": 84,
     "metadata": {},
     "output_type": "execute_result"
    }
   ],
   "source": [
    "df_20001.corr()"
   ]
  },
  {
   "cell_type": "code",
   "execution_count": 93,
   "metadata": {},
   "outputs": [
    {
     "data": {
      "text/plain": [
       "<matplotlib.axes._subplots.AxesSubplot at 0x1b4a9602668>"
      ]
     },
     "execution_count": 93,
     "metadata": {},
     "output_type": "execute_result"
    },
    {
     "data": {
      "image/png": "[encoded data removed]",
      "text/plain": [
       "<Figure size 432x288 with 2 Axes>"
      ]
     },
     "metadata": {
      "needs_background": "light"
     },
     "output_type": "display_data"
    }
   ],
   "source": [
    "sns.heatmap(df_20001.corr())"
   ]
  },
  {
   "cell_type": "code",
   "execution_count": 85,
   "metadata": {},
   "outputs": [
    {
     "data": {
      "text/html": [
       "<div>\n",
       "<style scoped>\n",
       "    .dataframe tbody tr th:only-of-type {\n",
       "        vertical-align: middle;\n",
       "    }\n",
       "\n",
       "    .dataframe tbody tr th {\n",
       "        vertical-align: top;\n",
       "    }\n",
       "\n",
       "    .dataframe thead th {\n",
       "        text-align: right;\n",
       "    }\n",
       "</style>\n",
       "<table border=\"1\" class=\"dataframe\">\n",
       "  <thead>\n",
       "    <tr style=\"text-align: right;\">\n",
       "      <th></th>\n",
       "      <th>ship</th>\n",
       "      <th>lat</th>\n",
       "      <th>lon</th>\n",
       "      <th>v</th>\n",
       "      <th>d</th>\n",
       "      <th>x</th>\n",
       "      <th>y</th>\n",
       "    </tr>\n",
       "  </thead>\n",
       "  <tbody>\n",
       "    <tr>\n",
       "      <th>ship</th>\n",
       "      <td>NaN</td>\n",
       "      <td>NaN</td>\n",
       "      <td>NaN</td>\n",
       "      <td>NaN</td>\n",
       "      <td>NaN</td>\n",
       "      <td>NaN</td>\n",
       "      <td>NaN</td>\n",
       "    </tr>\n",
       "    <tr>\n",
       "      <th>lat</th>\n",
       "      <td>NaN</td>\n",
       "      <td>1.000000</td>\n",
       "      <td>-0.614669</td>\n",
       "      <td>-0.080127</td>\n",
       "      <td>0.201016</td>\n",
       "      <td>-0.614669</td>\n",
       "      <td>1.000000</td>\n",
       "    </tr>\n",
       "    <tr>\n",
       "      <th>lon</th>\n",
       "      <td>NaN</td>\n",
       "      <td>-0.614669</td>\n",
       "      <td>1.000000</td>\n",
       "      <td>0.034709</td>\n",
       "      <td>-0.291025</td>\n",
       "      <td>1.000000</td>\n",
       "      <td>-0.614669</td>\n",
       "    </tr>\n",
       "    <tr>\n",
       "      <th>v</th>\n",
       "      <td>NaN</td>\n",
       "      <td>-0.080127</td>\n",
       "      <td>0.034709</td>\n",
       "      <td>1.000000</td>\n",
       "      <td>0.180472</td>\n",
       "      <td>0.034709</td>\n",
       "      <td>-0.080127</td>\n",
       "    </tr>\n",
       "    <tr>\n",
       "      <th>d</th>\n",
       "      <td>NaN</td>\n",
       "      <td>0.201016</td>\n",
       "      <td>-0.291025</td>\n",
       "      <td>0.180472</td>\n",
       "      <td>1.000000</td>\n",
       "      <td>-0.291025</td>\n",
       "      <td>0.201016</td>\n",
       "    </tr>\n",
       "    <tr>\n",
       "      <th>x</th>\n",
       "      <td>NaN</td>\n",
       "      <td>-0.614669</td>\n",
       "      <td>1.000000</td>\n",
       "      <td>0.034709</td>\n",
       "      <td>-0.291025</td>\n",
       "      <td>1.000000</td>\n",
       "      <td>-0.614669</td>\n",
       "    </tr>\n",
       "    <tr>\n",
       "      <th>y</th>\n",
       "      <td>NaN</td>\n",
       "      <td>1.000000</td>\n",
       "      <td>-0.614669</td>\n",
       "      <td>-0.080127</td>\n",
       "      <td>0.201016</td>\n",
       "      <td>-0.614669</td>\n",
       "      <td>1.000000</td>\n",
       "    </tr>\n",
       "  </tbody>\n",
       "</table>\n",
       "</div>"
      ],
      "text/plain": [
       "      ship       lat       lon         v         d         x         y\n",
       "ship   NaN       NaN       NaN       NaN       NaN       NaN       NaN\n",
       "lat    NaN  1.000000 -0.614669 -0.080127  0.201016 -0.614669  1.000000\n",
       "lon    NaN -0.614669  1.000000  0.034709 -0.291025  1.000000 -0.614669\n",
       "v      NaN -0.080127  0.034709  1.000000  0.180472  0.034709 -0.080127\n",
       "d      NaN  0.201016 -0.291025  0.180472  1.000000 -0.291025  0.201016\n",
       "x      NaN -0.614669  1.000000  0.034709 -0.291025  1.000000 -0.614669\n",
       "y      NaN  1.000000 -0.614669 -0.080127  0.201016 -0.614669  1.000000"
      ]
     },
     "execution_count": 85,
     "metadata": {},
     "output_type": "execute_result"
    }
   ],
   "source": [
    "df_20002.corr()"
   ]
  },
  {
   "cell_type": "code",
   "execution_count": 94,
   "metadata": {},
   "outputs": [
    {
     "data": {
      "text/plain": [
       "<matplotlib.axes._subplots.AxesSubplot at 0x1b4a968def0>"
      ]
     },
     "execution_count": 94,
     "metadata": {},
     "output_type": "execute_result"
    },
    {
     "data": {
      "image/png": "[encoded data removed]",
      "text/plain": [
       "<Figure size 432x288 with 2 Axes>"
      ]
     },
     "metadata": {
      "needs_background": "light"
     },
     "output_type": "display_data"
    }
   ],
   "source": [
    "sns.heatmap(df_20002.corr())"
   ]
  },
  {
   "cell_type": "markdown",
   "metadata": {},
   "source": [
    "### v ,d 可视化"
   ]
  },
  {
   "cell_type": "code",
   "execution_count": 95,
   "metadata": {},
   "outputs": [],
   "source": [
    "def v_d_show(df_file):\n",
    "    fig,ax=plt.subplots(nrows=1,ncols=2)\n",
    "    ax[0].hist(df_file.v)\n",
    "    ax[0].set_title('v',fontdict={'size':16,'family':'Times-Roman'})\n",
    "    ax[1].hist(df_file.d)\n",
    "    ax[1].set_title('d',fontdict={'size':16,'family':'Times-Roman'})"
   ]
  },
  {
   "cell_type": "code",
   "execution_count": 96,
   "metadata": {},
   "outputs": [
    {
     "data": {
      "image/png": "[encoded data removed]",
      "text/plain": [
       "<Figure size 432x288 with 2 Axes>"
      ]
     },
     "metadata": {
      "needs_background": "light"
     },
     "output_type": "display_data"
    }
   ],
   "source": [
    "v_d_show(df_20000)"
   ]
  },
  {
   "cell_type": "code",
   "execution_count": 97,
   "metadata": {},
   "outputs": [
    {
     "data": {
      "image/png": "[encoded data removed]",
      "text/plain": [
       "<Figure size 432x288 with 2 Axes>"
      ]
     },
     "metadata": {
      "needs_background": "light"
     },
     "output_type": "display_data"
    }
   ],
   "source": [
    "v_d_show(df_20001)"
   ]
  },
  {
   "cell_type": "code",
   "execution_count": 98,
   "metadata": {},
   "outputs": [
    {
     "data": {
      "image/png": "[encoded data removed]",
      "text/plain": [
       "<Figure size 432x288 with 2 Axes>"
      ]
     },
     "metadata": {
      "needs_background": "light"
     },
     "output_type": "display_data"
    }
   ],
   "source": [
    "v_d_show(df_20002)"
   ]
  },
  {
   "cell_type": "markdown",
   "metadata": {},
   "source": [
    "### x-y,lon-lat 可视化"
   ]
  },
  {
   "cell_type": "code",
   "execution_count": 99,
   "metadata": {},
   "outputs": [],
   "source": [
    "def show_path(file):\n",
    "    fig, ax = plt.subplots(nrows=1,ncols=2, figsize=(6.4,4.8))\n",
    "    ax[0].plot(file['x'], file['y'])\n",
    "    ax[0].set_title('xy trace',fontdict={'size':16,'family':'Times-Roman'})\n",
    "    ax[1].plot(file['lon'], file['lat'])\n",
    "    ax[1].set_title('lon-lat trace',fontdict={'size':16,'family':'Times-Roman'})"
   ]
  },
  {
   "cell_type": "code",
   "execution_count": 100,
   "metadata": {},
   "outputs": [
    {
     "data": {
      "image/png": "[encoded data removed]",
      "text/plain": [
       "<Figure size 460.8x345.6 with 2 Axes>"
      ]
     },
     "metadata": {
      "needs_background": "light"
     },
     "output_type": "display_data"
    }
   ],
   "source": [
    "show_path(df_20000)"
   ]
  },
  {
   "cell_type": "code",
   "execution_count": 101,
   "metadata": {},
   "outputs": [
    {
     "data": {
      "image/png": "[encoded data removed]",
      "text/plain": [
       "<Figure size 460.8x345.6 with 2 Axes>"
      ]
     },
     "metadata": {
      "needs_background": "light"
     },
     "output_type": "display_data"
    }
   ],
   "source": [
    "show_path(df_20001)"
   ]
  },
  {
   "cell_type": "code",
   "execution_count": 102,
   "metadata": {},
   "outputs": [
    {
     "data": {
      "image/png": "[encoded data removed]",
      "text/plain": [
       "<Figure size 460.8x345.6 with 2 Axes>"
      ]
     },
     "metadata": {
      "needs_background": "light"
     },
     "output_type": "display_data"
    }
   ],
   "source": [
    "show_path(df_20002)"
   ]
  },
  {
   "cell_type": "markdown",
   "metadata": {},
   "source": [
    "### 时间转化"
   ]
  },
  {
   "cell_type": "code",
   "execution_count": 126,
   "metadata": {},
   "outputs": [],
   "source": [
    "for df in [df_20000,df_20001,df_20002]:\n",
    "    df.time=pd.to_datetime(df.time,format='%m%d %H:%M:%S')\n",
    "    df['day']=df.time.dt.day\n",
    "    df['hour']=df.time.dt.hour\n",
    "    df['second']=df.time.dt.second\n",
    "    df['minute']=df.time.dt.minute"
   ]
  },
  {
   "cell_type": "code",
   "execution_count": 132,
   "metadata": {},
   "outputs": [
    {
     "data": {
      "text/plain": [
       "array([[<matplotlib.axes._subplots.AxesSubplot object at 0x000001B4AAB586D8>,\n",
       "        <matplotlib.axes._subplots.AxesSubplot object at 0x000001B4AB677B38>],\n",
       "       [<matplotlib.axes._subplots.AxesSubplot object at 0x000001B4AB9DD0B8>,\n",
       "        <matplotlib.axes._subplots.AxesSubplot object at 0x000001B4AB9C2668>]],\n",
       "      dtype=object)"
      ]
     },
     "execution_count": 132,
     "metadata": {},
     "output_type": "execute_result"
    },
    {
     "data": {
      "image/png": "[encoded data removed]",
      "text/plain": [
       "<Figure size 432x288 with 4 Axes>"
      ]
     },
     "metadata": {
      "needs_background": "light"
     },
     "output_type": "display_data"
    }
   ],
   "source": [
    "df_20000[['day','hour','second','minute',]].hist()"
   ]
  },
  {
   "cell_type": "code",
   "execution_count": 162,
   "metadata": {},
   "outputs": [
    {
     "data": {
      "text/plain": [
       "0      1900-09-12\n",
       "1      1900-09-12\n",
       "2      1900-09-12\n",
       "3      1900-09-12\n",
       "4      1900-09-12\n",
       "5      1900-09-12\n",
       "6      1900-09-12\n",
       "7      1900-09-12\n",
       "8      1900-09-12\n",
       "9      1900-09-12\n",
       "10     1900-09-12\n",
       "11     1900-09-12\n",
       "12     1900-09-12\n",
       "13     1900-09-12\n",
       "14     1900-09-12\n",
       "15     1900-09-12\n",
       "16     1900-09-12\n",
       "17     1900-09-12\n",
       "18     1900-09-12\n",
       "19     1900-09-12\n",
       "20     1900-09-12\n",
       "21     1900-09-12\n",
       "22     1900-09-12\n",
       "23     1900-09-12\n",
       "24     1900-09-12\n",
       "25     1900-09-12\n",
       "26     1900-09-12\n",
       "27     1900-09-12\n",
       "28     1900-09-12\n",
       "29     1900-09-12\n",
       "          ...    \n",
       "634    1900-09-08\n",
       "635    1900-09-08\n",
       "636    1900-09-08\n",
       "637    1900-09-08\n",
       "638    1900-09-08\n",
       "639    1900-09-08\n",
       "640    1900-09-08\n",
       "641    1900-09-08\n",
       "642    1900-09-08\n",
       "643    1900-09-08\n",
       "644    1900-09-08\n",
       "645    1900-09-08\n",
       "646    1900-09-08\n",
       "647    1900-09-08\n",
       "648    1900-09-08\n",
       "649    1900-09-08\n",
       "650    1900-09-08\n",
       "651    1900-09-08\n",
       "652    1900-09-08\n",
       "653    1900-09-08\n",
       "654    1900-09-08\n",
       "655    1900-09-08\n",
       "656    1900-09-08\n",
       "657    1900-09-08\n",
       "658    1900-09-08\n",
       "659    1900-09-08\n",
       "660    1900-09-08\n",
       "661    1900-09-08\n",
       "662    1900-09-08\n",
       "663    1900-09-08\n",
       "Name: time, Length: 664, dtype: object"
      ]
     },
     "execution_count": 162,
     "metadata": {},
     "output_type": "execute_result"
    }
   ],
   "source": [
    "df_20000['time'].dt.date"
   ]
  }
 ],
 "metadata": {
  "kernelspec": {
   "display_name": "Python 3",
   "language": "python",
   "name": "python3"
  },
  "language_info": {
   "codemirror_mode": {
    "name": "ipython",
    "version": 3
   },
   "file_extension": ".py",
   "mimetype": "text/x-python",
   "name": "python",
   "nbconvert_exporter": "python",
   "pygments_lexer": "ipython3",
   "version": "3.7.3"
  },
  "toc": {
   "base_numbering": 1,
   "nav_menu": {},
   "number_sections": true,
   "sideBar": true,
   "skip_h1_title": false,
   "title_cell": "Table of Contents",
   "title_sidebar": "Contents",
   "toc_cell": false,
   "toc_position": {},
   "toc_section_display": true,
   "toc_window_display": false
  }
 },
 "nbformat": 4,
 "nbformat_minor": 2
}
